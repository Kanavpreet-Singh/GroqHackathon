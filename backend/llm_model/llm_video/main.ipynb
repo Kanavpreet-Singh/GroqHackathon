{
 "cells": [
  {
   "cell_type": "code",
   "execution_count": 2,
   "id": "5b5a1ff7",
   "metadata": {},
   "outputs": [],
   "source": [
    "import validators\n",
    "from langchain_core.prompts import PromptTemplate\n",
    "from langchain_groq import ChatGroq\n",
    "from langchain.chains.summarize import load_summarize_chain\n",
    "from langchain_community.document_loaders import YoutubeLoader,UnstructuredURLLoader\n",
    "from youtube_transcript_api import YouTubeTranscriptApi\n",
    "from langchain.schema import Document\n"
   ]
  },
  {
   "cell_type": "code",
   "execution_count": 3,
   "id": "03596218",
   "metadata": {},
   "outputs": [],
   "source": [
    "import os\n",
    "from dotenv import load_dotenv\n",
    "load_dotenv()\n",
    "os.environ[\"GROQ_API_KEY\"]=os.getenv(\"GROQ_API_KEY\")\n",
    "\n",
    "llm = ChatGroq(model=\"Gemma2-9b-It\")\n"
   ]
  },
  {
   "cell_type": "code",
   "execution_count": 4,
   "id": "11bacbbe",
   "metadata": {},
   "outputs": [],
   "source": [
    "from langchain_core.output_parsers import JsonOutputParser\n",
    "from langchain_core.prompts import PromptTemplate\n",
    "\n",
    "\n",
    "output_parser=JsonOutputParser()\n",
    "prompt = PromptTemplate(\n",
    "    template=\"\"\"\n",
    "    Please analyze the video, create a summary, and provide a clickable index to its major contents.\n",
    "    \\n{format_instructions}\\n. Content :{text}\\n\"\"\",\n",
    "    input_variables=[\"text\"],\n",
    "    partial_variables={\"format_instructions\": output_parser.get_format_instructions()},\n",
    ")\n"
   ]
  },
  {
   "cell_type": "code",
   "execution_count": 5,
   "id": "5e3751d0",
   "metadata": {},
   "outputs": [
    {
     "name": "stdout",
     "output_type": "stream",
     "text": [
      "\n",
      "--- Transcript ---\n",
      "\n",
      "at this neighborhood in Dulan Mushidabad residents share harrowing tales of what they were subjected to rioting looting and arson as you can see telltale signs of what happened yesterday still fresh this morning there are residents who have shared their tales of their businesses being completely uh you know gutted attacked looted and then set on fire there are houses here uh residential houses which have been attacked broken into and men barged into these houses residents here tell us that this locality is located just a few meters away from the local police station at least half a kilometer is where the police station exists and yet despite repeated SOS calls being made to the police to rescue them to help them no help came because the police themselves were under attack with camera person Tapus Bi in Rjit for India today in Dulan Mushidabad\n"
     ]
    }
   ],
   "source": [
    "def extract_video_id(url):\n",
    "    if \"youtube.com/watch?v=\" in url:\n",
    "        return url.split(\"v=\")[1].split(\"&\")[0]\n",
    "    elif \"youtu.be/\" in url:\n",
    "        return url.split(\"youtu.be/\")[1].split(\"?\")[0]\n",
    "    else:\n",
    "        return None\n",
    "\n",
    "# Input from user\n",
    "url = input(\"Enter a YouTube URL: \")\n",
    "\n",
    "# Validate and process\n",
    "if validators.url(url):\n",
    "    video_id = extract_video_id(url)\n",
    "    if video_id:\n",
    "        try:\n",
    "            transcript_list = YouTubeTranscriptApi.get_transcript(video_id)\n",
    "            transcript_text = \" \".join([t['text'] for t in transcript_list])\n",
    "            document = Document(page_content=transcript_text)\n",
    "            print(\"\\n--- Transcript ---\\n\")\n",
    "            print(document.page_content)\n",
    "        except Exception as e:\n",
    "            print(\"Error fetching transcript:\", e)\n",
    "    else:\n",
    "        print(\"Invalid YouTube URL format.\")\n",
    "else:\n",
    "    print(\"Not a valid URL.\")\n"
   ]
  },
  {
   "cell_type": "code",
   "execution_count": 6,
   "id": "44158f59",
   "metadata": {},
   "outputs": [
    {
     "data": {
      "text/plain": [
       "[Document(metadata={}, page_content='at this neighborhood in Dulan Mushidabad residents share harrowing tales of what they were subjected'),\n",
       " Document(metadata={}, page_content='they were subjected to rioting looting and arson as you can see telltale signs of what happened'),\n",
       " Document(metadata={}, page_content='of what happened yesterday still fresh this morning there are residents who have shared their tales'),\n",
       " Document(metadata={}, page_content='shared their tales of their businesses being completely uh you know gutted attacked looted and then'),\n",
       " Document(metadata={}, page_content='looted and then set on fire there are houses here uh residential houses which have been attacked'),\n",
       " Document(metadata={}, page_content='have been attacked broken into and men barged into these houses residents here tell us that this'),\n",
       " Document(metadata={}, page_content='tell us that this locality is located just a few meters away from the local police station at least'),\n",
       " Document(metadata={}, page_content='station at least half a kilometer is where the police station exists and yet despite repeated SOS'),\n",
       " Document(metadata={}, page_content='repeated SOS calls being made to the police to rescue them to help them no help came because the'),\n",
       " Document(metadata={}, page_content='came because the police themselves were under attack with camera person Tapus Bi in Rjit for India'),\n",
       " Document(metadata={}, page_content='in Rjit for India today in Dulan Mushidabad')]"
      ]
     },
     "execution_count": 6,
     "metadata": {},
     "output_type": "execute_result"
    }
   ],
   "source": [
    "from langchain.text_splitter import RecursiveCharacterTextSplitter\n",
    "text_splitter = RecursiveCharacterTextSplitter(chunk_size=100 , chunk_overlap=20)\n",
    "documents =text_splitter.split_documents(documents=[document])\n",
    "documents"
   ]
  },
  {
   "cell_type": "code",
   "execution_count": 7,
   "id": "3e3fbe99",
   "metadata": {},
   "outputs": [],
   "source": [
    "from langchain_core.output_parsers import JsonOutputParser\n",
    "from langchain_core.prompts import PromptTemplate\n",
    "\n",
    "prompt = PromptTemplate(\n",
    "    template=\"\"\"\n",
    "    Provide the summary of the provided chunk. Think  step by step before providing a detailed answer.Summarize the following chunk in a clear, concise, and informative way. Maintain important facts and avoid repetition.\n",
    "    \\n{documents}\\n{query}\\n\"\"\",\n",
    "    input_variables=[\"query\",\"documents\"],\n",
    ")"
   ]
  },
  {
   "cell_type": "code",
   "execution_count": 8,
   "id": "f4e31aee",
   "metadata": {},
   "outputs": [],
   "source": [
    "chain =prompt|llm\n",
    "def summarize_chunk(chunk):\n",
    "    text=chain.invoke({\"query\":\"give the summary\",\"documents\":{chunk}})\n",
    "    return text\n",
    "partial_summaries = [summarize_chunk(c.page_content) for c in documents]\n",
    "final_combined_summary = \" \".join(item.content for item in partial_summaries)\n",
    "from langchain_core.prompts import ChatPromptTemplate\n",
    "prompt2=ChatPromptTemplate.from_messages(\n",
    "    [\n",
    "        (\"system\",\"give the summary of the following text. Use proper headings, subheadings, bullet points , paragraphs where appropriate.Use HTML tags to format the text. Use a clear and concise writing style.For new line use <br> tag. \"),\n",
    "        (\"user\",\"{input}\")\n",
    "    ]\n",
    ")\n",
    "chain2=prompt2|llm \n",
    "def summarize_combined_summary(combined_summary):\n",
    "    text=chain2.invoke({\"input\":{combined_summary}})\n",
    "    return text\n",
    "final_summary = summarize_combined_summary(final_combined_summary) "
   ]
  },
  {
   "cell_type": "code",
   "execution_count": 9,
   "id": "3b8512ef",
   "metadata": {},
   "outputs": [
    {
     "data": {
      "text/plain": [
       "\"<h1>Dulan Mushidabad Under Attack: Residents Fear and Share Stories</h1>\\n\\n<p>Residents of Dulan Mushidabad are sharing harrowing tales of violence and chaos that erupted in their community. </p>\\n\\n<h2>Evidence of Recent Violence</h2>\\n\\n<ul>\\n  <li>The area bears visible scars of rioting, looting, and arson.</li>\\n  <li>Residents continue to discuss and recount their experiences from the previous day.</li>\\n</ul>\\n\\n<h2>Targeted Attacks and Destruction</h2>\\n\\n<p>The violence has profoundly impacted residents' lives:</p>\\n\\n<ul>\\n  <li>Businesses have been severely damaged by attacks, looting, and destruction.</li>\\n  <li>Residential houses have been looted and burned.</li>\\n  <li>Homes have been attacked, broken into, and residents have reported men forcing their way into their houses.</li>\\n</ul>\\n\\n<h2>Lack of Police Response Despite SOS Calls</h2>\\n\\n<p>Adding to the residents' fear and frustration, despite the close proximity of a police station (located at least half a kilometer away), help did not arrive.</p>\\n\\n<ul>\\n  <li>Residents made repeated emergency calls (SOS) but received no assistance.</li>\\n</ul>\\n\\n<h2>Unanswered Questions</h2>\\n\\n<p>The text raises questions about the police's response to the situation:</p>\\n\\n<ul>\\n  <li>Why was help not provided despite repeated calls for assistance?</li>\\n  <li>What measures are being taken to protect residents and ensure their safety?</li>\\n</ul>\\n\\n\\n<p>The situation in Dulan Mushidabad is deeply concerning, highlighting the urgent need for effective law enforcement and protection for vulnerable communities.</p> \\n\""
      ]
     },
     "execution_count": 9,
     "metadata": {},
     "output_type": "execute_result"
    }
   ],
   "source": [
    "final_summary.content"
   ]
  },
  {
   "cell_type": "code",
   "execution_count": null,
   "id": "33f1e8ed",
   "metadata": {},
   "outputs": [],
   "source": []
  }
 ],
 "metadata": {
  "kernelspec": {
   "display_name": "Python 3",
   "language": "python",
   "name": "python3"
  },
  "language_info": {
   "codemirror_mode": {
    "name": "ipython",
    "version": 3
   },
   "file_extension": ".py",
   "mimetype": "text/x-python",
   "name": "python",
   "nbconvert_exporter": "python",
   "pygments_lexer": "ipython3",
   "version": "3.12.9"
  }
 },
 "nbformat": 4,
 "nbformat_minor": 5
}
